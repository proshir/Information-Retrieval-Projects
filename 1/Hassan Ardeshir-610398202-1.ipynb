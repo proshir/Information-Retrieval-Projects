{
 "cells": [
  {
   "cell_type": "code",
   "execution_count": 285,
   "id": "5a1cf502-c3c7-46ba-8982-b7ff8a3dea33",
   "metadata": {},
   "outputs": [],
   "source": [
    "import nltk\n",
    "from nltk.tokenize import word_tokenize\n",
    "from nltk.stem import PorterStemmer\n",
    "from nltk.corpus import stopwords\n",
    "import re"
   ]
  },
  {
   "cell_type": "code",
   "execution_count": 286,
   "id": "aa86be70-03b1-4acd-ac83-70d3b3eba84f",
   "metadata": {},
   "outputs": [
    {
     "name": "stderr",
     "output_type": "stream",
     "text": [
      "[nltk_data] Downloading package punkt to C:\\Users\\Proshir-\n",
      "[nltk_data]     Pc\\AppData\\Roaming\\nltk_data...\n",
      "[nltk_data]   Package punkt is already up-to-date!\n",
      "[nltk_data] Downloading package stopwords to C:\\Users\\Proshir-\n",
      "[nltk_data]     Pc\\AppData\\Roaming\\nltk_data...\n",
      "[nltk_data]   Package stopwords is already up-to-date!\n"
     ]
    },
    {
     "data": {
      "text/plain": [
       "True"
      ]
     },
     "execution_count": 286,
     "metadata": {},
     "output_type": "execute_result"
    }
   ],
   "source": [
    "nltk.download('punkt')\n",
    "nltk.download('stopwords')"
   ]
  },
  {
   "cell_type": "code",
   "execution_count": 287,
   "id": "0076f70e-7c93-4888-9fa2-f4e8f68eeb56",
   "metadata": {},
   "outputs": [],
   "source": [
    "class UndefinedQueryInputError(Exception):\n",
    "    def __init__(self):\n",
    "        self.message = \"Undefined query input\""
   ]
  },
  {
   "cell_type": "code",
   "execution_count": 317,
   "id": "8323ed12-38b5-48c0-ad1a-087c1ee3d390",
   "metadata": {},
   "outputs": [],
   "source": [
    "class IRSystem:\n",
    "    def __init__(self):\n",
    "        self.documents = []\n",
    "        self.inverted_index = {}\n",
    "        self.positional_index = {}\n",
    "    \n",
    "    def preprocess_document(self, document, rm_stop=False, do_stem=False):\n",
    "        # Tokenization\n",
    "        words = word_tokenize(document)\n",
    "    \n",
    "        # Lowercasing and Remove punctuation\n",
    "        words = [word.lower() for word in words if word.isalnum()]\n",
    "\n",
    "        # Remove Stop Words\n",
    "        if rm_stop:\n",
    "            stop_words = set(stopwords.words(\"english\"))\n",
    "            words = [word for word in words if word not in stop_words]\n",
    "        \n",
    "        # Stemming\n",
    "        if do_stem:\n",
    "            stemmer = PorterStemmer()\n",
    "            words = [stemmer.stem(word) for word in words]\n",
    "\n",
    "        return words\n",
    "\n",
    "    def add_document(self, document):\n",
    "        self.documents += [document]\n",
    "\n",
    "    def build_inverted_index(self, rm_stop=True, do_stem=True):\n",
    "        self.inverted_index = {}\n",
    "        for doc_id, document in enumerate(self.documents):\n",
    "            terms = self.preprocess_document(document, rm_stop, do_stem)\n",
    "            \n",
    "            for term in terms:\n",
    "                if term not in self.inverted_index:\n",
    "                    self.inverted_index[term] = [doc_id]\n",
    "                elif self.inverted_index[term][-1] != doc_id:\n",
    "                    self.inverted_index[term] += [doc_id]\n",
    "\n",
    "    def get_inv_index(self, term):\n",
    "        return self.inverted_index.get(term, [])\n",
    "    \n",
    "    def intersect_sorted(self, so1, so2):\n",
    "        i, j = 0, 0\n",
    "        if len(so1) > len(so2): # change order of intersect based on their size (freq)\n",
    "            so1, so2 = so2, so1\n",
    "        result = []\n",
    "        while i < len(so1) and j < len(so2):\n",
    "            doc1 = so1[i]\n",
    "            while j < len(so2) and so2[j] < doc1:\n",
    "                j += 1\n",
    "            if doc1 == so2[j]:\n",
    "                result += [doc1]\n",
    "            i += 1        \n",
    "        return result\n",
    "\n",
    "    def merge_sorted(self, so1, so2):\n",
    "        i, j = 0, 0\n",
    "        result = []\n",
    "        while i < len(so1):\n",
    "            doc1 = so1[i]\n",
    "            while j < len(so2) and so2[j] <= doc1:\n",
    "                if doc1 != so2[j]:\n",
    "                    result += [so2[j]]\n",
    "                j += 1\n",
    "            result += [doc1]\n",
    "            i += 1\n",
    "        while j < len(so2):\n",
    "            result += so2[j]\n",
    "            j += 1\n",
    "        return result\n",
    "\n",
    "    def not_sorted(self, so):\n",
    "        j = 0\n",
    "        result = []\n",
    "        for i in range(len(self.documents)):\n",
    "            if j == len(so) or so[j] != i:\n",
    "                result += [i]\n",
    "            else:\n",
    "                j += 1\n",
    "        return result\n",
    "\n",
    "    def boolean_query(self, query, rm_stop=True, do_stem=True):\n",
    "        terms = re.findall(r'\\b\\w+\\b', query.lower())\n",
    "        order = None\n",
    "        if len(terms) == 3:\n",
    "            if terms[1] == \"and\":\n",
    "                order = \"and\"\n",
    "            elif terms[1] == \"or\":\n",
    "                order = \"or\"\n",
    "            terms = self.preprocess_document(f\"{terms[0]} {terms[2]}\", rm_stop, do_stem) \n",
    "        elif len(terms) == 2 and terms[0] == \"not\":\n",
    "            order = \"not\"\n",
    "            terms = self.preprocess_document(terms[1], rm_stop, do_stem) \n",
    "        if order == None:\n",
    "            raise UndefinedQueryInputError()\n",
    "\n",
    "        if order == \"and\":\n",
    "            return self.intersect_sorted(self.get_inv_index(terms[0]), self.get_inv_index(terms[1]))\n",
    "        elif order == \"or\":\n",
    "            return self.merge_sorted(self.get_inv_index(terms[0]), self.get_inv_index(terms[1]))\n",
    "        else:\n",
    "            return self.not_sorted(self.get_inv_index(terms[0]))\n",
    "\n",
    "    def build_positional_index(self, rm_stop=False, do_stem=True):\n",
    "        self.positional_index = {}\n",
    "        for doc_id, document in enumerate(self.documents):\n",
    "            terms = self.preprocess_document(document, rm_stop, do_stem)\n",
    "\n",
    "            for position, term in enumerate(terms):\n",
    "                if term not in self.positional_index:\n",
    "                    self.positional_index[term] = {}\n",
    "                if doc_id not in self.positional_index[term]:\n",
    "                    self.positional_index[term][doc_id] = [position]\n",
    "                else:\n",
    "                    self.positional_index[term][doc_id] += [position]\n",
    "\n",
    "    def positional_intersect(self, positions_1, positions_2, kprox):\n",
    "        answer = []\n",
    "\n",
    "        idx_1, idx_2 = 0, 0\n",
    "\n",
    "        while idx_1 < len(positions_1) and idx_2 < len(positions_2):\n",
    "            pos1 = positions_1[idx_1]\n",
    "            while idx_2 < len(positions_2) and pos1 - positions_2[idx_2] > kprox:\n",
    "                idx_2 += 1\n",
    "            j = idx_2\n",
    "            if j < len(positions_2) and abs(positions_2[j] - pos1) <= kprox:\n",
    "                answer += [[pos1, positions_2[j]]]\n",
    "                j += 1\n",
    "            idx_1 += 1\n",
    "        \n",
    "        return answer        \n",
    "\n",
    "    def get_pos_index(self, term):\n",
    "        return self.positional_index.get(term, {})\n",
    "    \n",
    "    def proximity_query(self, query, rm_stop=False, do_stem=True):\n",
    "        terms = re.findall(r'\\b\\w+\\b', query.lower())\n",
    "        if len(terms) != 4 or terms[1] != 'near':\n",
    "            raise UndefinedQueryInputError()\n",
    "        kprox = int(terms[2]) + 1\n",
    "        terms = self.preprocess_document(f\"{terms[0]} {terms[3]}\", rm_stop, do_stem)\n",
    "        comm_docs = self.intersect_sorted(list(self.get_pos_index(terms[0]).keys()), list(self.get_pos_index(terms[1]).keys()))\n",
    "        if not comm_docs:\n",
    "            return []\n",
    "        result = []\n",
    "        for doc_id in comm_docs:\n",
    "            ans = self.positional_intersect(self.get_pos_index(terms[0])[doc_id], self.get_pos_index(terms[1])[doc_id], kprox)\n",
    "            if ans:\n",
    "                result += [doc_id]\n",
    "            print(doc_id, ans)\n",
    "        return result"
   ]
  },
  {
   "cell_type": "code",
   "execution_count": 297,
   "id": "b750a5ce-6336-40ab-8e6d-d2e82e708d3a",
   "metadata": {},
   "outputs": [],
   "source": [
    "ir_system = IRSystem()"
   ]
  },
  {
   "cell_type": "code",
   "execution_count": 298,
   "id": "60a64a80-bde0-42e6-907b-1dc4e964f031",
   "metadata": {},
   "outputs": [
    {
     "data": {
      "text/plain": [
       "['This is a simple example document. It contains several words.',\n",
       " 'Another example document with different content. Document indexing is important for retrieval.',\n",
       " 'Another example document to test Boolean search capabilities. This document contains relevant content.']"
      ]
     },
     "execution_count": 298,
     "metadata": {},
     "output_type": "execute_result"
    }
   ],
   "source": [
    "ir_system.add_document(\"This is a simple example document. It contains several words.\")\n",
    "ir_system.add_document(\"Another example document with different content. Document indexing is important for retrieval.\")\n",
    "ir_system.add_document(\"Another example document to test Boolean search capabilities. This document contains relevant content.\")\n",
    "ir_system.documents"
   ]
  },
  {
   "cell_type": "markdown",
   "id": "b5d19844-9b1f-47e2-8657-8a629f343fde",
   "metadata": {},
   "source": [
    "### rm_stop=True, do_stem=True"
   ]
  },
  {
   "cell_type": "code",
   "execution_count": 299,
   "id": "b7b410f9-9c69-44e7-bb15-64722aa72610",
   "metadata": {},
   "outputs": [
    {
     "data": {
      "text/plain": [
       "{'simpl': [0],\n",
       " 'exampl': [0, 1, 2],\n",
       " 'document': [0, 1, 2],\n",
       " 'contain': [0, 2],\n",
       " 'sever': [0],\n",
       " 'word': [0],\n",
       " 'anoth': [1, 2],\n",
       " 'differ': [1],\n",
       " 'content': [1, 2],\n",
       " 'index': [1],\n",
       " 'import': [1],\n",
       " 'retriev': [1],\n",
       " 'test': [2],\n",
       " 'boolean': [2],\n",
       " 'search': [2],\n",
       " 'capabl': [2],\n",
       " 'relev': [2]}"
      ]
     },
     "execution_count": 299,
     "metadata": {},
     "output_type": "execute_result"
    }
   ],
   "source": [
    "ir_system.build_inverted_index()\n",
    "ir_system.inverted_index"
   ]
  },
  {
   "cell_type": "markdown",
   "id": "09da965a-93be-4338-846b-5f8457691f30",
   "metadata": {},
   "source": [
    "### Answers are in 0 base mode."
   ]
  },
  {
   "cell_type": "code",
   "execution_count": 300,
   "id": "3db76534-6135-4519-bd05-d3eaa4fe7915",
   "metadata": {},
   "outputs": [
    {
     "data": {
      "text/plain": [
       "[1, 2]"
      ]
     },
     "execution_count": 300,
     "metadata": {},
     "output_type": "execute_result"
    }
   ],
   "source": [
    "ir_system.boolean_query(\"example AND content\")"
   ]
  },
  {
   "cell_type": "code",
   "execution_count": 301,
   "id": "ec9efc7b-4509-4a11-9558-9ef3847b5232",
   "metadata": {},
   "outputs": [
    {
     "data": {
      "text/plain": [
       "[0, 1, 2]"
      ]
     },
     "execution_count": 301,
     "metadata": {},
     "output_type": "execute_result"
    }
   ],
   "source": [
    "ir_system.boolean_query(\"example or simple\")"
   ]
  },
  {
   "cell_type": "markdown",
   "id": "489e9318-2a65-4be4-ada7-ffdb82a6651d",
   "metadata": {},
   "source": [
    "### It doesn't work because stop words have been removed and \"is\" is no longer in the query."
   ]
  },
  {
   "cell_type": "code",
   "execution_count": 302,
   "id": "19b512a4-f835-4bd6-91ae-55f400f578ee",
   "metadata": {},
   "outputs": [
    {
     "ename": "IndexError",
     "evalue": "list index out of range",
     "output_type": "error",
     "traceback": [
      "\u001b[1;31m---------------------------------------------------------------------------\u001b[0m",
      "\u001b[1;31mIndexError\u001b[0m                                Traceback (most recent call last)",
      "Cell \u001b[1;32mIn[302], line 1\u001b[0m\n\u001b[1;32m----> 1\u001b[0m \u001b[43mir_system\u001b[49m\u001b[38;5;241;43m.\u001b[39;49m\u001b[43mboolean_query\u001b[49m\u001b[43m(\u001b[49m\u001b[38;5;124;43m\"\u001b[39;49m\u001b[38;5;124;43mexample or is\u001b[39;49m\u001b[38;5;124;43m\"\u001b[39;49m\u001b[43m)\u001b[49m\n",
      "Cell \u001b[1;32mIn[296], line 101\u001b[0m, in \u001b[0;36mIRSystem.boolean_query\u001b[1;34m(self, query, rm_stop, do_stem)\u001b[0m\n\u001b[0;32m     99\u001b[0m     \u001b[38;5;28;01mreturn\u001b[39;00m \u001b[38;5;28mself\u001b[39m\u001b[38;5;241m.\u001b[39mintersect_sorted(\u001b[38;5;28mself\u001b[39m\u001b[38;5;241m.\u001b[39mget_inv_index(terms[\u001b[38;5;241m0\u001b[39m]), \u001b[38;5;28mself\u001b[39m\u001b[38;5;241m.\u001b[39mget_inv_index(terms[\u001b[38;5;241m1\u001b[39m]))\n\u001b[0;32m    100\u001b[0m \u001b[38;5;28;01melif\u001b[39;00m order \u001b[38;5;241m==\u001b[39m \u001b[38;5;124m\"\u001b[39m\u001b[38;5;124mor\u001b[39m\u001b[38;5;124m\"\u001b[39m:\n\u001b[1;32m--> 101\u001b[0m     \u001b[38;5;28;01mreturn\u001b[39;00m \u001b[38;5;28mself\u001b[39m\u001b[38;5;241m.\u001b[39mmerge_sorted(\u001b[38;5;28mself\u001b[39m\u001b[38;5;241m.\u001b[39mget_inv_index(terms[\u001b[38;5;241m0\u001b[39m]), \u001b[38;5;28mself\u001b[39m\u001b[38;5;241m.\u001b[39mget_inv_index(\u001b[43mterms\u001b[49m\u001b[43m[\u001b[49m\u001b[38;5;241;43m1\u001b[39;49m\u001b[43m]\u001b[49m))\n\u001b[0;32m    102\u001b[0m \u001b[38;5;28;01melse\u001b[39;00m:\n\u001b[0;32m    103\u001b[0m     \u001b[38;5;28;01mreturn\u001b[39;00m \u001b[38;5;28mself\u001b[39m\u001b[38;5;241m.\u001b[39mnot_sorted(\u001b[38;5;28mself\u001b[39m\u001b[38;5;241m.\u001b[39mget_inv_index(terms[\u001b[38;5;241m0\u001b[39m]))\n",
      "\u001b[1;31mIndexError\u001b[0m: list index out of range"
     ]
    }
   ],
   "source": [
    "ir_system.boolean_query(\"example or is\")"
   ]
  },
  {
   "cell_type": "code",
   "execution_count": 304,
   "id": "9752c87c-2e7a-4b0c-8ce2-f3282f15aeae",
   "metadata": {},
   "outputs": [
    {
     "data": {
      "text/plain": [
       "[0, 2]"
      ]
     },
     "execution_count": 304,
     "metadata": {},
     "output_type": "execute_result"
    }
   ],
   "source": [
    "ir_system.boolean_query(\"not indexing\")"
   ]
  },
  {
   "cell_type": "code",
   "execution_count": 306,
   "id": "495bf157-d266-4cf0-a343-6de65529842e",
   "metadata": {},
   "outputs": [
    {
     "data": {
      "text/plain": [
       "[0]"
      ]
     },
     "execution_count": 306,
     "metadata": {},
     "output_type": "execute_result"
    }
   ],
   "source": [
    "ir_system.boolean_query(\"not content\")"
   ]
  },
  {
   "cell_type": "markdown",
   "id": "c331f8f9-811a-49f6-9947-097d8f7126c6",
   "metadata": {},
   "source": [
    "### rm_stop=False, do_stem=True"
   ]
  },
  {
   "cell_type": "code",
   "execution_count": 307,
   "id": "d5a83871-c7c4-414f-9ba6-bb08ab7c7429",
   "metadata": {},
   "outputs": [
    {
     "data": {
      "text/plain": [
       "{'thi': {0: [0], 2: [8]},\n",
       " 'is': {0: [1], 1: [8]},\n",
       " 'a': {0: [2]},\n",
       " 'simpl': {0: [3]},\n",
       " 'exampl': {0: [4], 1: [1], 2: [1]},\n",
       " 'document': {0: [5], 1: [2, 6], 2: [2, 9]},\n",
       " 'it': {0: [6]},\n",
       " 'contain': {0: [7], 2: [10]},\n",
       " 'sever': {0: [8]},\n",
       " 'word': {0: [9]},\n",
       " 'anoth': {1: [0], 2: [0]},\n",
       " 'with': {1: [3]},\n",
       " 'differ': {1: [4]},\n",
       " 'content': {1: [5], 2: [12]},\n",
       " 'index': {1: [7]},\n",
       " 'import': {1: [9]},\n",
       " 'for': {1: [10]},\n",
       " 'retriev': {1: [11]},\n",
       " 'to': {2: [3]},\n",
       " 'test': {2: [4]},\n",
       " 'boolean': {2: [5]},\n",
       " 'search': {2: [6]},\n",
       " 'capabl': {2: [7]},\n",
       " 'relev': {2: [11]}}"
      ]
     },
     "execution_count": 307,
     "metadata": {},
     "output_type": "execute_result"
    }
   ],
   "source": [
    "ir_system.build_positional_index()\n",
    "ir_system.positional_index"
   ]
  },
  {
   "cell_type": "code",
   "execution_count": 308,
   "id": "5f0e5b5f-8732-4e5e-9b2b-1b5beb92d3d5",
   "metadata": {},
   "outputs": [
    {
     "name": "stdout",
     "output_type": "stream",
     "text": [
      "1 [[1, 5]]\n",
      "2 []\n"
     ]
    },
    {
     "data": {
      "text/plain": [
       "[1]"
      ]
     },
     "execution_count": 308,
     "metadata": {},
     "output_type": "execute_result"
    }
   ],
   "source": [
    "ir_system.proximity_query(\"example NEAR/3 content\")"
   ]
  },
  {
   "cell_type": "code",
   "execution_count": 309,
   "id": "5a6505db-3167-4b9e-8179-31400725b2c4",
   "metadata": {},
   "outputs": [
    {
     "name": "stdout",
     "output_type": "stream",
     "text": [
      "2 []\n"
     ]
    },
    {
     "data": {
      "text/plain": [
       "[]"
      ]
     },
     "execution_count": 309,
     "metadata": {},
     "output_type": "execute_result"
    }
   ],
   "source": [
    "ir_system.proximity_query(\"example NEAR/1 test\")"
   ]
  },
  {
   "cell_type": "markdown",
   "id": "e3665579-940d-4248-83ce-752e98699b36",
   "metadata": {},
   "source": [
    "### rm_stop=False, do_stem=True"
   ]
  },
  {
   "cell_type": "code",
   "execution_count": 310,
   "id": "971fb680-736f-4655-b664-09976780fc69",
   "metadata": {
    "scrolled": true
   },
   "outputs": [
    {
     "data": {
      "text/plain": [
       "{'thi': [0, 2],\n",
       " 'is': [0, 1],\n",
       " 'a': [0],\n",
       " 'simpl': [0],\n",
       " 'exampl': [0, 1, 2],\n",
       " 'document': [0, 1, 2],\n",
       " 'it': [0],\n",
       " 'contain': [0, 2],\n",
       " 'sever': [0],\n",
       " 'word': [0],\n",
       " 'anoth': [1, 2],\n",
       " 'with': [1],\n",
       " 'differ': [1],\n",
       " 'content': [1, 2],\n",
       " 'index': [1],\n",
       " 'import': [1],\n",
       " 'for': [1],\n",
       " 'retriev': [1],\n",
       " 'to': [2],\n",
       " 'test': [2],\n",
       " 'boolean': [2],\n",
       " 'search': [2],\n",
       " 'capabl': [2],\n",
       " 'relev': [2]}"
      ]
     },
     "execution_count": 310,
     "metadata": {},
     "output_type": "execute_result"
    }
   ],
   "source": [
    "ir_system.build_inverted_index(rm_stop=False, do_stem=True)\n",
    "ir_system.inverted_index"
   ]
  },
  {
   "cell_type": "code",
   "execution_count": 311,
   "id": "e3d0340b-3900-4f0b-b35a-8002de23fb0a",
   "metadata": {},
   "outputs": [
    {
     "data": {
      "text/plain": [
       "[1, 2]"
      ]
     },
     "execution_count": 311,
     "metadata": {},
     "output_type": "execute_result"
    }
   ],
   "source": [
    "ir_system.boolean_query(\"example AND content\", rm_stop=False, do_stem=True)"
   ]
  },
  {
   "cell_type": "code",
   "execution_count": 312,
   "id": "11f2931a-0908-4cb4-8a78-92e9edade453",
   "metadata": {},
   "outputs": [
    {
     "data": {
      "text/plain": [
       "[0, 1, 2]"
      ]
     },
     "execution_count": 312,
     "metadata": {},
     "output_type": "execute_result"
    }
   ],
   "source": [
    "ir_system.boolean_query(\"example or simple\", rm_stop=False, do_stem=True)"
   ]
  },
  {
   "cell_type": "code",
   "execution_count": 313,
   "id": "0a923818-e514-4861-a7db-9701262361e7",
   "metadata": {},
   "outputs": [
    {
     "data": {
      "text/plain": [
       "[0, 1, 2]"
      ]
     },
     "execution_count": 313,
     "metadata": {},
     "output_type": "execute_result"
    }
   ],
   "source": [
    "ir_system.boolean_query(\"example or is\", rm_stop=False, do_stem=True)"
   ]
  },
  {
   "cell_type": "markdown",
   "id": "58d4d492-f00f-48c4-bff5-25e0f4c0c705",
   "metadata": {},
   "source": [
    "### rm_stop=True, do_stem=True"
   ]
  },
  {
   "cell_type": "code",
   "execution_count": 314,
   "id": "8a78fa18-32b4-4eae-b43d-a2ade1feb66f",
   "metadata": {},
   "outputs": [
    {
     "data": {
      "text/plain": [
       "{'simpl': {0: [0]},\n",
       " 'exampl': {0: [1], 1: [1], 2: [1]},\n",
       " 'document': {0: [2], 1: [2, 5], 2: [2, 7]},\n",
       " 'contain': {0: [3], 2: [8]},\n",
       " 'sever': {0: [4]},\n",
       " 'word': {0: [5]},\n",
       " 'anoth': {1: [0], 2: [0]},\n",
       " 'differ': {1: [3]},\n",
       " 'content': {1: [4], 2: [10]},\n",
       " 'index': {1: [6]},\n",
       " 'import': {1: [7]},\n",
       " 'retriev': {1: [8]},\n",
       " 'test': {2: [3]},\n",
       " 'boolean': {2: [4]},\n",
       " 'search': {2: [5]},\n",
       " 'capabl': {2: [6]},\n",
       " 'relev': {2: [9]}}"
      ]
     },
     "execution_count": 314,
     "metadata": {},
     "output_type": "execute_result"
    }
   ],
   "source": [
    "ir_system.build_positional_index(rm_stop=True, do_stem=True)\n",
    "ir_system.positional_index"
   ]
  },
  {
   "cell_type": "markdown",
   "id": "17154cbf-5680-4fc6-b71f-5fa15f217d7c",
   "metadata": {},
   "source": [
    "### The output is correct, but in fact, the distance between them is calculated less because the word between them is removed."
   ]
  },
  {
   "cell_type": "code",
   "execution_count": 315,
   "id": "620d9fc9-779e-44a3-a360-85cb3b64944a",
   "metadata": {},
   "outputs": [
    {
     "name": "stdout",
     "output_type": "stream",
     "text": [
      "1 [[1, 4]]\n",
      "2 []\n"
     ]
    },
    {
     "data": {
      "text/plain": [
       "[1]"
      ]
     },
     "execution_count": 315,
     "metadata": {},
     "output_type": "execute_result"
    }
   ],
   "source": [
    "ir_system.proximity_query(\"example NEAR/3 content\", rm_stop=True, do_stem=True)"
   ]
  },
  {
   "cell_type": "markdown",
   "id": "14a6350b-5bdd-4477-bd5e-30af8d9dd353",
   "metadata": {},
   "source": [
    "### The answer is wrong because \"to\", which is a stop word, has been removed, so the distance between these two words has decreased and is acceptable."
   ]
  },
  {
   "cell_type": "code",
   "execution_count": 316,
   "id": "ece1204d-f72b-457a-b5c7-03703e3832e8",
   "metadata": {},
   "outputs": [
    {
     "name": "stdout",
     "output_type": "stream",
     "text": [
      "2 [[1, 3]]\n"
     ]
    },
    {
     "data": {
      "text/plain": [
       "[2]"
      ]
     },
     "execution_count": 316,
     "metadata": {},
     "output_type": "execute_result"
    }
   ],
   "source": [
    "ir_system.proximity_query(\"example NEAR/1 test\", rm_stop=True, do_stem=True)"
   ]
  }
 ],
 "metadata": {
  "kernelspec": {
   "display_name": "Python 3 (ipykernel)",
   "language": "python",
   "name": "python3"
  },
  "language_info": {
   "codemirror_mode": {
    "name": "ipython",
    "version": 3
   },
   "file_extension": ".py",
   "mimetype": "text/x-python",
   "name": "python",
   "nbconvert_exporter": "python",
   "pygments_lexer": "ipython3",
   "version": "3.11.3"
  }
 },
 "nbformat": 4,
 "nbformat_minor": 5
}
